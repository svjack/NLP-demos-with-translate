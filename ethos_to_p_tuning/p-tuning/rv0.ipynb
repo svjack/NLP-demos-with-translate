{
 "cells": [
  {
   "cell_type": "code",
   "execution_count": 1,
   "id": "5edbfbec",
   "metadata": {},
   "outputs": [],
   "source": [
    "import os \n",
    "import sys"
   ]
  },
  {
   "cell_type": "code",
   "execution_count": 2,
   "id": "c61c6a93",
   "metadata": {},
   "outputs": [
    {
     "name": "stdout",
     "output_type": "stream",
     "text": [
      "README.md         evaluate.py       model.py          ptuning_script.py\r\n",
      "\u001b[34m__pycache__\u001b[m\u001b[m       \u001b[34mimgs\u001b[m\u001b[m              predict.py        rv0.ipynb\r\n",
      "data.py           \u001b[34mlabel_normalized\u001b[m\u001b[m  ptuning.py\r\n"
     ]
    }
   ],
   "source": [
    "!ls"
   ]
  },
  {
   "cell_type": "code",
   "execution_count": 3,
   "id": "ec8d6e4b",
   "metadata": {},
   "outputs": [
    {
     "name": "stderr",
     "output_type": "stream",
     "text": [
      "INFO 2022-10-18 15:10:36,701 utils.py:147] Note: NumExpr detected 12 cores but \"NUMEXPR_MAX_THREADS\" not set, so enforcing safe limit of 8.\n"
     ]
    }
   ],
   "source": [
    "from ptuning_script import *"
   ]
  },
  {
   "cell_type": "code",
   "execution_count": 9,
   "id": "40044b21",
   "metadata": {},
   "outputs": [],
   "source": [
    "args = reformat_parser_tuple"
   ]
  },
  {
   "cell_type": "code",
   "execution_count": 12,
   "id": "09937c3d",
   "metadata": {},
   "outputs": [
    {
     "data": {
      "text/plain": [
       "'bustm'"
      ]
     },
     "execution_count": 12,
     "metadata": {},
     "output_type": "execute_result"
    }
   ],
   "source": [
    "d = dict(reformat_parser_df.values.tolist())\n",
    "d[\"task_name\"] = \"bustm\"\n",
    "args_parser_namedtuple = namedtuple(\"args_config\", d)\n",
    "args = args_parser_namedtuple(**d)\n",
    "args.task_name"
   ]
  },
  {
   "cell_type": "code",
   "execution_count": 13,
   "id": "3b8474d4",
   "metadata": {},
   "outputs": [],
   "source": [
    "label_normalize_json = os.path.join(\"./label_normalized\",\n",
    "                                        args.task_name + \".json\")"
   ]
  },
  {
   "cell_type": "code",
   "execution_count": 14,
   "id": "7d652c6c",
   "metadata": {},
   "outputs": [],
   "source": [
    "label_norm_dict = None\n",
    "with open(label_normalize_json, 'r', encoding=\"utf-8\") as f:\n",
    "    label_norm_dict = json.load(f)\n",
    "\n",
    "convert_example_fn = convert_example if args.task_name != \"chid\" else convert_chid_example\n",
    "evaluate_fn = do_evaluate if args.task_name != \"chid\" else do_evaluate_chid"
   ]
  },
  {
   "cell_type": "code",
   "execution_count": 16,
   "id": "91f8aa55",
   "metadata": {},
   "outputs": [
    {
     "name": "stderr",
     "output_type": "stream",
     "text": [
      "INFO 2022-10-18 15:17:39,384 download.py:117] unique_endpoints {''}\n",
      "INFO 2022-10-18 15:17:39,385 download.py:117] unique_endpoints {''}\n",
      "INFO 2022-10-18 15:17:39,386 download.py:250] Downloading fewclue_bustm.tar.gz from https://bj.bcebos.com/paddlenlp/datasets/FewCLUE/fewclue_bustm.tar.gz\n",
      "100%|████████████████████████████████████████| 199/199 [00:01<00:00, 173.21it/s]\n",
      "INFO 2022-10-18 15:17:41,771 download.py:269] File /Users/svjack/.paddlenlp/datasets/FewCLUE/fewclue_bustm.tar.gz md5 checking...\n",
      "INFO 2022-10-18 15:17:41,775 download.py:287] Decompressing /Users/svjack/.paddlenlp/datasets/FewCLUE/fewclue_bustm.tar.gz...\n"
     ]
    }
   ],
   "source": [
    "train_ds, dev_ds, public_test_ds = load_dataset(\"fewclue\",\n",
    "                                                name=args.task_name,\n",
    "                                                splits=(\"train_0\", \"dev_0\",\n",
    "                                                        \"test_public\"))"
   ]
  },
  {
   "cell_type": "code",
   "execution_count": 19,
   "id": "464be4ae",
   "metadata": {},
   "outputs": [],
   "source": [
    "###train_ds.__dict__"
   ]
  },
  {
   "cell_type": "code",
   "execution_count": 23,
   "id": "1a7128b6",
   "metadata": {},
   "outputs": [],
   "source": [
    "##pd.DataFrame(train_ds.__dict__[\"data\"])"
   ]
  },
  {
   "cell_type": "code",
   "execution_count": 24,
   "id": "875c9a6c",
   "metadata": {},
   "outputs": [],
   "source": [
    "transform_fn = partial(transform_fn_dict[args.task_name],\n",
    "                           label_normalize_dict=label_norm_dict)"
   ]
  },
  {
   "cell_type": "code",
   "execution_count": 25,
   "id": "a159dfa8",
   "metadata": {},
   "outputs": [],
   "source": [
    "train_ds = train_ds.map(transform_fn, lazy=False)\n",
    "dev_ds = dev_ds.map(transform_fn, lazy=False)\n",
    "public_test_ds = public_test_ds.map(transform_fn, lazy=False)"
   ]
  },
  {
   "cell_type": "code",
   "execution_count": 30,
   "id": "62e95399",
   "metadata": {},
   "outputs": [],
   "source": [
    "??transform_fn"
   ]
  },
  {
   "cell_type": "code",
   "execution_count": 29,
   "id": "33b071cf",
   "metadata": {},
   "outputs": [],
   "source": [
    "###transform_fn_dict"
   ]
  },
  {
   "cell_type": "code",
   "execution_count": 34,
   "id": "86cba7f1",
   "metadata": {},
   "outputs": [
    {
     "data": {
      "text/plain": [
       "{'id': 0, 'sentence1': '叫爸爸叫一声我听听', 'sentence2': '那你叫我一声爸爸', 'text_label': '很'}"
      ]
     },
     "execution_count": 34,
     "metadata": {},
     "output_type": "execute_result"
    }
   ],
   "source": [
    "train_ds[0]"
   ]
  },
  {
   "cell_type": "code",
   "execution_count": 37,
   "id": "bec12c6b",
   "metadata": {},
   "outputs": [
    {
     "name": "stderr",
     "output_type": "stream",
     "text": [
      "\u001b[32m[2022-10-18 16:04:20,693] [    INFO]\u001b[0m - Downloading https://bj.bcebos.com/paddlenlp/models/transformers/ernie_3.0/ernie_3.0_medium_zh.pdparams and saved to /Users/svjack/.paddlenlp/models/ernie-3.0-medium-zh\u001b[0m\n",
      "\u001b[32m[2022-10-18 16:04:20,695] [    INFO]\u001b[0m - Downloading ernie_3.0_medium_zh.pdparams from https://bj.bcebos.com/paddlenlp/models/transformers/ernie_3.0/ernie_3.0_medium_zh.pdparams\u001b[0m\n",
      "100%|█████████████████████████████████████████| 313M/313M [08:25<00:00, 648kB/s]\n"
     ]
    }
   ],
   "source": [
    "model = ErnieForPretraining.from_pretrained('ernie-3.0-medium-zh')"
   ]
  },
  {
   "cell_type": "code",
   "execution_count": 38,
   "id": "08b77f11",
   "metadata": {},
   "outputs": [
    {
     "name": "stderr",
     "output_type": "stream",
     "text": [
      "\u001b[32m[2022-10-18 16:12:58,214] [    INFO]\u001b[0m - We are using <class 'paddlenlp.transformers.ernie.tokenizer.ErnieTokenizer'> to load 'ernie-3.0-medium-zh'.\u001b[0m\n",
      "\u001b[32m[2022-10-18 16:12:58,216] [    INFO]\u001b[0m - Downloading https://bj.bcebos.com/paddlenlp/models/transformers/ernie_3.0/ernie_3.0_medium_zh_vocab.txt and saved to /Users/svjack/.paddlenlp/models/ernie-3.0-medium-zh\u001b[0m\n",
      "\u001b[32m[2022-10-18 16:12:58,216] [    INFO]\u001b[0m - Downloading ernie_3.0_medium_zh_vocab.txt from https://bj.bcebos.com/paddlenlp/models/transformers/ernie_3.0/ernie_3.0_medium_zh_vocab.txt\u001b[0m\n",
      "100%|█████████████████████████████████████████| 182k/182k [00:01<00:00, 118kB/s]\n",
      "\u001b[32m[2022-10-18 16:13:02,116] [    INFO]\u001b[0m - tokenizer config file saved in /Users/svjack/.paddlenlp/models/ernie-3.0-medium-zh/tokenizer_config.json\u001b[0m\n",
      "\u001b[32m[2022-10-18 16:13:02,117] [    INFO]\u001b[0m - Special tokens file saved in /Users/svjack/.paddlenlp/models/ernie-3.0-medium-zh/special_tokens_map.json\u001b[0m\n"
     ]
    }
   ],
   "source": [
    "tokenizer = AutoTokenizer.from_pretrained('ernie-3.0-medium-zh')"
   ]
  },
  {
   "cell_type": "code",
   "execution_count": 40,
   "id": "6076d12e",
   "metadata": {},
   "outputs": [
    {
     "data": {
      "text/plain": [
       "'{\"id\": 0, \"sentence1\": \"\\\\u53eb\\\\u7238\\\\u7238\\\\u53eb\\\\u4e00\\\\u58f0\\\\u6211\\\\u542c\\\\u542c\", \"sentence2\": \"\\\\u90a3\\\\u4f60\\\\u53eb\\\\u6211\\\\u4e00\\\\u58f0\\\\u7238\\\\u7238\", \"text_label\": \"\\\\u5f88\"}'"
      ]
     },
     "execution_count": 40,
     "metadata": {},
     "output_type": "execute_result"
    }
   ],
   "source": [
    "json.dumps(train_ds[0])"
   ]
  },
  {
   "cell_type": "code",
   "execution_count": 44,
   "id": "332a1f95",
   "metadata": {},
   "outputs": [
    {
     "data": {
      "text/plain": [
       "{'id': 0, 'sentence1': '叫爸爸叫一声我听听', 'sentence2': '那你叫我一声爸爸', 'text_label': '很'}"
      ]
     },
     "execution_count": 44,
     "metadata": {},
     "output_type": "execute_result"
    }
   ],
   "source": [
    "train_ds[0]"
   ]
  },
  {
   "cell_type": "code",
   "execution_count": 41,
   "id": "62832d77",
   "metadata": {},
   "outputs": [],
   "source": [
    "src_ids, token_type_ids, mask_positions, mask_lm_labels = \\\n",
    "convert_example_fn(train_ds[0], tokenizer)"
   ]
  },
  {
   "cell_type": "code",
   "execution_count": 49,
   "id": "c694e1d8",
   "metadata": {},
   "outputs": [
    {
     "data": {
      "text/plain": [
       "'[UNK][UNK][UNK][UNK][UNK][CLS][MASK]叫爸爸叫一声我听听[SEP]那你叫我一声爸爸[SEP]'"
      ]
     },
     "execution_count": 49,
     "metadata": {},
     "output_type": "execute_result"
    }
   ],
   "source": [
    "\"\".join(tokenizer.convert_ids_to_tokens(src_ids))"
   ]
  },
  {
   "cell_type": "code",
   "execution_count": 47,
   "id": "26eb380b",
   "metadata": {},
   "outputs": [
    {
     "data": {
      "text/plain": [
       "[6]"
      ]
     },
     "execution_count": 47,
     "metadata": {},
     "output_type": "execute_result"
    }
   ],
   "source": [
    "mask_positions"
   ]
  },
  {
   "cell_type": "code",
   "execution_count": 50,
   "id": "090d57b2",
   "metadata": {},
   "outputs": [
    {
     "data": {
      "text/plain": [
       "[321]"
      ]
     },
     "execution_count": 50,
     "metadata": {},
     "output_type": "execute_result"
    }
   ],
   "source": [
    "mask_lm_labels"
   ]
  },
  {
   "cell_type": "code",
   "execution_count": 51,
   "id": "065074e4",
   "metadata": {},
   "outputs": [
    {
     "data": {
      "text/plain": [
       "'很'"
      ]
     },
     "execution_count": 51,
     "metadata": {},
     "output_type": "execute_result"
    }
   ],
   "source": [
    "\"\".join(tokenizer.convert_ids_to_tokens(mask_lm_labels))"
   ]
  },
  {
   "cell_type": "code",
   "execution_count": 53,
   "id": "edd85ece",
   "metadata": {},
   "outputs": [],
   "source": [
    "####len(train_ds)"
   ]
  },
  {
   "cell_type": "code",
   "execution_count": null,
   "id": "327d76e2",
   "metadata": {},
   "outputs": [],
   "source": []
  },
  {
   "cell_type": "code",
   "execution_count": null,
   "id": "328b27d9",
   "metadata": {},
   "outputs": [],
   "source": [
    "#### sentence1 sentence2 text_label"
   ]
  },
  {
   "cell_type": "code",
   "execution_count": 1,
   "id": "e94ddf3c",
   "metadata": {},
   "outputs": [],
   "source": [
    "import os\n",
    "import sys"
   ]
  },
  {
   "cell_type": "code",
   "execution_count": 4,
   "id": "9f293552",
   "metadata": {},
   "outputs": [],
   "source": [
    "import argparse\n",
    "import os\n",
    "import sys\n",
    "import random\n",
    "import time\n",
    "import json\n",
    "from functools import partial\n",
    "\n",
    "import numpy as np\n",
    "import paddle\n",
    "import paddle.nn.functional as F\n",
    "\n",
    "import paddlenlp\n",
    "from paddlenlp.transformers import AutoTokenizer\n",
    "from paddlenlp.data import Stack, Tuple, Pad\n",
    "from paddlenlp.datasets import load_dataset\n",
    "from paddlenlp.transformers import LinearDecayWithWarmup\n",
    "\n",
    "from model import ErnieForPretraining, ErnieMLMCriterion\n",
    "from data import create_dataloader, transform_fn_dict\n",
    "from data import convert_example, convert_chid_example\n",
    "from evaluate import do_evaluate, do_evaluate_chid\n"
   ]
  },
  {
   "cell_type": "code",
   "execution_count": 12,
   "id": "6d714c01",
   "metadata": {},
   "outputs": [],
   "source": [
    "from collections import namedtuple\n",
    "import pandas as pd"
   ]
  },
  {
   "cell_type": "code",
   "execution_count": 7,
   "id": "02acacda",
   "metadata": {},
   "outputs": [
    {
     "data": {
      "text/plain": [
       "_StoreAction(option_strings=['--rdrop_coef'], dest='rdrop_coef', nargs=None, const=None, default=0.0, type=<class 'float'>, choices=None, help='The coefficient of KL-Divergence loss in R-Drop paper, for more detail please refer to https://arxiv.org/abs/2106.14448), if rdrop_coef > 0 then R-Drop works', metavar=None)"
      ]
     },
     "execution_count": 7,
     "metadata": {},
     "output_type": "execute_result"
    }
   ],
   "source": [
    "parser = argparse.ArgumentParser()\n",
    "\n",
    "parser.add_argument(\"--task_name\", required=True, type=str, help=\"The task_name to be evaluated\")\n",
    "parser.add_argument(\"--p_embedding_num\", type=int, default=1, help=\"number of p-embedding\")\n",
    "parser.add_argument(\"--batch_size\", default=32, type=int, help=\"Batch size per GPU/CPU for training.\")\n",
    "parser.add_argument(\"--learning_rate\", default=1e-5, type=float, help=\"The initial learning rate for Adam.\")\n",
    "parser.add_argument(\"--save_dir\", default='./checkpoint', type=str, help=\"The output directory where the model checkpoints will be written.\")\n",
    "parser.add_argument(\"--max_seq_length\", default=128, type=int, help=\"The maximum total input sequence length after tokenization. \"\n",
    "    \"Sequences longer than this will be truncated, sequences shorter will be padded.\")\n",
    "parser.add_argument(\"--weight_decay\", default=0.0, type=float, help=\"Weight decay if we apply some.\")\n",
    "parser.add_argument(\"--epochs\", default=10, type=int, help=\"Total number of training epochs to perform.\")\n",
    "parser.add_argument(\"--warmup_proportion\", default=0.0, type=float, help=\"Linear warmup proption over the training process.\")\n",
    "parser.add_argument(\"--init_from_ckpt\", type=str, default=None, help=\"The path of checkpoint to be loaded.\")\n",
    "parser.add_argument(\"--seed\", type=int, default=1000, help=\"random seed for initialization\")\n",
    "parser.add_argument('--device', choices=['cpu', 'gpu'], default=\"gpu\", help=\"Select which device to train model, defaults to gpu.\")\n",
    "parser.add_argument('--save_steps', type=int, default=10000, help=\"Inteval steps to save checkpoint\")\n",
    "parser.add_argument(\"--rdrop_coef\", default=0.0, type=float, help=\"The coefficient of KL-Divergence loss in R-Drop paper, for more detail please refer to https://arxiv.org/abs/2106.14448), if rdrop_coef > 0 then R-Drop works\")\n",
    "\n",
    "###args = parser.parse_args()"
   ]
  },
  {
   "cell_type": "code",
   "execution_count": 20,
   "id": "9ff95bcb",
   "metadata": {},
   "outputs": [],
   "source": [
    "def test():\n",
    "    exec(\"x = 0\")\n",
    "    return x"
   ]
  },
  {
   "cell_type": "code",
   "execution_count": 25,
   "id": "20043534",
   "metadata": {},
   "outputs": [
    {
     "data": {
      "text/plain": [
       "1000"
      ]
     },
     "execution_count": 25,
     "metadata": {},
     "output_type": "execute_result"
    }
   ],
   "source": [
    "n_ext0 = namedtuple(\"arg0\", {\"s\": 10})\n",
    "n_ext0(**{\"s\": 1000}).s"
   ]
  },
  {
   "cell_type": "code",
   "execution_count": 26,
   "id": "e211da16",
   "metadata": {},
   "outputs": [],
   "source": [
    "def parse_parser_add_arg(parser, as_named_tuple = False):\n",
    "    args_df = pd.DataFrame(\n",
    "    pd.Series(parser.__dict__[\"_actions\"]).map(\n",
    "    lambda x:x.__dict__\n",
    "    ).values.tolist())\n",
    "    args_df = args_df.explode(\"option_strings\")\n",
    "    args_df[\"option_strings\"] = args_df[\"option_strings\"].map(\n",
    "    lambda x: x[2:] if x.startswith(\"--\") else x\n",
    "    ).map(\n",
    "        lambda x: x[1:] if x.startswith(\"-\") else x\n",
    "        )\n",
    "    args_df = args_df[[\"option_strings\", \"default\"]]\n",
    "    args = dict(args_df.values.tolist())\n",
    "    if as_named_tuple:\n",
    "        args_parser_namedtuple = namedtuple(\"args_config\", args)\n",
    "        return args_parser_namedtuple(**args)\n",
    "    return args_df"
   ]
  },
  {
   "cell_type": "code",
   "execution_count": 27,
   "id": "02853d76",
   "metadata": {},
   "outputs": [
    {
     "data": {
      "text/html": [
       "<div>\n",
       "<style scoped>\n",
       "    .dataframe tbody tr th:only-of-type {\n",
       "        vertical-align: middle;\n",
       "    }\n",
       "\n",
       "    .dataframe tbody tr th {\n",
       "        vertical-align: top;\n",
       "    }\n",
       "\n",
       "    .dataframe thead th {\n",
       "        text-align: right;\n",
       "    }\n",
       "</style>\n",
       "<table border=\"1\" class=\"dataframe\">\n",
       "  <thead>\n",
       "    <tr style=\"text-align: right;\">\n",
       "      <th></th>\n",
       "      <th>option_strings</th>\n",
       "      <th>default</th>\n",
       "    </tr>\n",
       "  </thead>\n",
       "  <tbody>\n",
       "    <tr>\n",
       "      <th>0</th>\n",
       "      <td>h</td>\n",
       "      <td>==SUPPRESS==</td>\n",
       "    </tr>\n",
       "    <tr>\n",
       "      <th>0</th>\n",
       "      <td>help</td>\n",
       "      <td>==SUPPRESS==</td>\n",
       "    </tr>\n",
       "    <tr>\n",
       "      <th>1</th>\n",
       "      <td>task_name</td>\n",
       "      <td>None</td>\n",
       "    </tr>\n",
       "    <tr>\n",
       "      <th>2</th>\n",
       "      <td>p_embedding_num</td>\n",
       "      <td>1</td>\n",
       "    </tr>\n",
       "    <tr>\n",
       "      <th>3</th>\n",
       "      <td>batch_size</td>\n",
       "      <td>32</td>\n",
       "    </tr>\n",
       "    <tr>\n",
       "      <th>4</th>\n",
       "      <td>learning_rate</td>\n",
       "      <td>0.00001</td>\n",
       "    </tr>\n",
       "    <tr>\n",
       "      <th>5</th>\n",
       "      <td>save_dir</td>\n",
       "      <td>./checkpoint</td>\n",
       "    </tr>\n",
       "    <tr>\n",
       "      <th>6</th>\n",
       "      <td>max_seq_length</td>\n",
       "      <td>128</td>\n",
       "    </tr>\n",
       "    <tr>\n",
       "      <th>7</th>\n",
       "      <td>weight_decay</td>\n",
       "      <td>0.0</td>\n",
       "    </tr>\n",
       "    <tr>\n",
       "      <th>8</th>\n",
       "      <td>epochs</td>\n",
       "      <td>10</td>\n",
       "    </tr>\n",
       "    <tr>\n",
       "      <th>9</th>\n",
       "      <td>warmup_proportion</td>\n",
       "      <td>0.0</td>\n",
       "    </tr>\n",
       "    <tr>\n",
       "      <th>10</th>\n",
       "      <td>init_from_ckpt</td>\n",
       "      <td>None</td>\n",
       "    </tr>\n",
       "    <tr>\n",
       "      <th>11</th>\n",
       "      <td>seed</td>\n",
       "      <td>1000</td>\n",
       "    </tr>\n",
       "    <tr>\n",
       "      <th>12</th>\n",
       "      <td>device</td>\n",
       "      <td>gpu</td>\n",
       "    </tr>\n",
       "    <tr>\n",
       "      <th>13</th>\n",
       "      <td>save_steps</td>\n",
       "      <td>10000</td>\n",
       "    </tr>\n",
       "    <tr>\n",
       "      <th>14</th>\n",
       "      <td>rdrop_coef</td>\n",
       "      <td>0.0</td>\n",
       "    </tr>\n",
       "  </tbody>\n",
       "</table>\n",
       "</div>"
      ],
      "text/plain": [
       "       option_strings       default\n",
       "0                   h  ==SUPPRESS==\n",
       "0                help  ==SUPPRESS==\n",
       "1           task_name          None\n",
       "2     p_embedding_num             1\n",
       "3          batch_size            32\n",
       "4       learning_rate       0.00001\n",
       "5            save_dir  ./checkpoint\n",
       "6      max_seq_length           128\n",
       "7        weight_decay           0.0\n",
       "8              epochs            10\n",
       "9   warmup_proportion           0.0\n",
       "10     init_from_ckpt          None\n",
       "11               seed          1000\n",
       "12             device           gpu\n",
       "13         save_steps         10000\n",
       "14         rdrop_coef           0.0"
      ]
     },
     "execution_count": 27,
     "metadata": {},
     "output_type": "execute_result"
    }
   ],
   "source": [
    "parse_parser_add_arg(parser)"
   ]
  },
  {
   "cell_type": "code",
   "execution_count": 30,
   "id": "e302e8f8",
   "metadata": {},
   "outputs": [
    {
     "data": {
      "text/plain": [
       "0.0"
      ]
     },
     "execution_count": 30,
     "metadata": {},
     "output_type": "execute_result"
    }
   ],
   "source": [
    "parse_parser_add_arg(parser, as_named_tuple=True).rdrop_coef"
   ]
  },
  {
   "cell_type": "code",
   "execution_count": null,
   "id": "2a4f9b2b",
   "metadata": {},
   "outputs": [],
   "source": []
  }
 ],
 "metadata": {
  "kernelspec": {
   "display_name": "py39_cp",
   "language": "python",
   "name": "py39_cp"
  },
  "language_info": {
   "codemirror_mode": {
    "name": "ipython",
    "version": 3
   },
   "file_extension": ".py",
   "mimetype": "text/x-python",
   "name": "python",
   "nbconvert_exporter": "python",
   "pygments_lexer": "ipython3",
   "version": "3.9.12"
  }
 },
 "nbformat": 4,
 "nbformat_minor": 5
}
